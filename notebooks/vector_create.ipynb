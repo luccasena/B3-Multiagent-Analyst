{
 "cells": [
  {
   "cell_type": "code",
   "execution_count": 1,
   "id": "9078cd72",
   "metadata": {},
   "outputs": [],
   "source": [
    "from langchain.vectorstores import FAISS\n",
    "from langchain_text_splitters import RecursiveCharacterTextSplitter\n",
    "from langchain_google_genai import GoogleGenerativeAIEmbeddings\n",
    "from langchain.docstore.document import Document"
   ]
  },
  {
   "cell_type": "code",
   "execution_count": 2,
   "id": "ac8dc279",
   "metadata": {},
   "outputs": [],
   "source": [
    "def open_file(file_path):\n",
    "    try:\n",
    "        with open(file_path, \"r\", encoding=\"utf-8\") as file:\n",
    "            contents = file.read()\n",
    "        return contents\n",
    "    \n",
    "    except FileNotFoundError:\n",
    "        print(f\"File not found: {file_path}\")\n",
    "        return None\n",
    "    \n",
    "    except Exception as e:\n",
    "        print(f\"Error: {e}\")\n",
    "        return None"
   ]
  },
  {
   "cell_type": "code",
   "execution_count": null,
   "id": "4c1da0c5",
   "metadata": {},
   "outputs": [],
   "source": [
    "GOOGLE_API_KEY = ''"
   ]
  },
  {
   "cell_type": "code",
   "execution_count": null,
   "id": "efdd973d",
   "metadata": {},
   "outputs": [],
   "source": [
    "paths = [\n",
    "    \"financial_agents\\knowledge\\dados_fundamentalistas.txt\", \n",
    "    \"financial_agents\\knowledge\\glossario_financias.txt\"\n",
    "]\n",
    "\n",
    "pages = []\n",
    "\n",
    "for path in paths:\n",
    "    loader = open_file(path)\n",
    "    if loader:\n",
    "        pages.append(loader)"
   ]
  },
  {
   "cell_type": "code",
   "execution_count": 5,
   "id": "50cd431e",
   "metadata": {},
   "outputs": [],
   "source": [
    "size = 1000\n",
    "overlap = 200\n",
    "persist_directory = \"db\""
   ]
  },
  {
   "cell_type": "code",
   "execution_count": null,
   "id": "02106a19",
   "metadata": {},
   "outputs": [],
   "source": [
    "embeddings = GoogleGenerativeAIEmbeddings(model=\"models/text-embedding-004\", google_api_key=GOOGLE_API_KEY)\n",
    "\n",
    "text_splitter = RecursiveCharacterTextSplitter(\n",
    "    chunk_size=size,\n",
    "    chunk_overlap=overlap\n",
    ")"
   ]
  },
  {
   "cell_type": "code",
   "execution_count": 7,
   "id": "52e9ad51",
   "metadata": {},
   "outputs": [],
   "source": [
    "documents = []\n",
    "for page in pages:\n",
    "    chunks = text_splitter.split_text(page)\n",
    "    for chunk in chunks:\n",
    "        documents.append(Document(page_content=chunk))    "
   ]
  },
  {
   "cell_type": "code",
   "execution_count": 8,
   "id": "68c73af5",
   "metadata": {},
   "outputs": [],
   "source": [
    "vector_store = FAISS.from_documents(documents=documents, embedding=embeddings)"
   ]
  },
  {
   "cell_type": "code",
   "execution_count": 9,
   "id": "505b8be5",
   "metadata": {},
   "outputs": [],
   "source": [
    "vector_store.save_local(\"db\")"
   ]
  },
  {
   "cell_type": "code",
   "execution_count": null,
   "id": "1ca1bd0a",
   "metadata": {},
   "outputs": [],
   "source": [
    "question = \"O que é uma Ebitda?\"\n",
    "\n",
    "retriever = vector_store.as_retriever()\n",
    "\n",
    "docs = retriever.get_relevant_documents(question)"
   ]
  },
  {
   "cell_type": "code",
   "execution_count": 10,
   "id": "9ff5440f",
   "metadata": {},
   "outputs": [
    {
     "name": "stdout",
     "output_type": "stream",
     "text": [
      "\n",
      "📄 Score: 0.2736\n",
      "Ebitda: Este indicador representa, em tradução livre do inglês, o lucro antes de juros, impostos, depreciação e amortização. É a partir do Ebitda que analistas e investidores medem o potencial de geração de caixa de uma companhia, uma vez que ele mostra os valores obtidos pelo negócio excluindo os c\n",
      "\n",
      "📄 Score: 0.3252\n",
      "EBITDA: Sigla em inglês para Earnings Before Interests, Taxes, Depreciation and Amortization, ou em português Lucro antes dos Juros, Impostos, Depreciação e Amortização (LAJIDA), é um indicativo do potencial de geração de caixa operacional da empresa, sem levar em consideração os efeitos de receitas\n"
     ]
    }
   ],
   "source": [
    "docs_scores = vector_store.similarity_search_with_score(question, k=2)\n",
    "for doc, score in docs_scores:\n",
    "    print(f\"\\n📄 Score: {score:.4f}\")\n",
    "    print(doc.page_content[:300])"
   ]
  },
  {
   "cell_type": "code",
   "execution_count": 11,
   "id": "d103aca7",
   "metadata": {},
   "outputs": [],
   "source": [
    "docs = vector_store.similarity_search(question)\n",
    "\n",
    "context = \"\"\n",
    "for doc in docs:\n",
    "    context += doc.page_content \n",
    "    context += \"\\n\\n\""
   ]
  },
  {
   "cell_type": "code",
   "execution_count": 12,
   "id": "4dd4ab92",
   "metadata": {},
   "outputs": [
    {
     "data": {
      "text/plain": [
       "'Ebitda: Este indicador representa, em tradução livre do inglês, o lucro antes de juros, impostos, depreciação e amortização. É a partir do Ebitda que analistas e investidores medem o potencial de geração de caixa de uma companhia, uma vez que ele mostra os valores obtidos pelo negócio excluindo os custos que não estão ligados à operação.\\n\\nMargem Ebitda: A margem Ebitda é um indicador de margem de lucro operacional de um negócio. Se obtém este indicador pela divisão entre o Ebitda registrado pela companhia em determinado período e as receitas. Quanto maior a margem Ebitda, maior é a eficiência operacional da empresa, uma vez que ela consegue gerar lucro a partir de suas operações.\\n\\nPatrimônio Líquido (PL): Este indicador representa a diferença entre o valor dos ativos de uma empresa e o seu passivo. Lembrando que ativos são os bens e direitos a receber pela companhia, e os passivos as obrigações com terceiros e com os sócios.\\n\\nEBITDA: Sigla em inglês para Earnings Before Interests, Taxes, Depreciation and Amortization, ou em português Lucro antes dos Juros, Impostos, Depreciação e Amortização (LAJIDA), é um indicativo do potencial de geração de caixa operacional da empresa, sem levar em consideração os efeitos de receitas e despesas financeiras, impostos, depreciação e amortização. \\n\\nEBITDA/Despesas Financeiras: Também conhecido como Índice de Cobertura de Juros (ICJ), é um indicador da saúde financeira da empresa, pois mede a capacidade da empresa em honrar com as despesas de juros de seus empréstimos a partir de seu potencial de geração de caixa operacional (EBITDA), servindo também como um índice de solvência, que é a capacidade da empresa cumprir os seus compromissos. Considera-se que empresas com ICJ abaixo de uma vez (1x) podem ter dificuldade em arcar com o pagamento das despesas financeiras.\\n\\nDPA: Dividendo por ação. Termo usado em análise fundamentalista para o cálculo do indicador de dividend yield e em análise financeira para o cálculo do dividend payout. O DPA de uma ação reflete a soma de todos os dividendos e proventos pagos por uma empresa a seus acionistas de uma determinada classe de ações por um determinado período de tempo. \\n\\nDuration: Duration é o prazo médio ponderado de recebimentos dos fluxos de um título. Um ativo que não paga juros ou amortização até o vencimento terá sua duration equivalente ao prazo do título. Já aqueles que pagam fluxos ao longo da duração, possuem duration inferior ao prazo. \\n\\nLetra: E\\nEBIT: Earnings Before Interest and Taxes – lucro antes de juros e impostos. Em português, LAJIR – resultado líquido do período, acrescido dos tributos sobre o lucro e das despesas financeiras líquidas das receitas financeiras.\\n\\nPSR: O PSR, ou Price to Sales Ratio, é o índice de preço em relação a vendas. É obtido pelo valor da empresa dividido por sua receita operacional líquida. O indicador é utilizado para medir o desempenho de vendas de uma companhia.\\n\\nEnterprise Value (EV/Ebitda): Enterprise Value é a soma do valor de mercado das ações de uma companhia com a dívida líquida dessa empresa. O valor é obtido ao multiplicar o número de ações emitidas pelo preço da ação em determinado momento.\\n\\nCFS (Cash Flow/Share): CFS, ou Demonstração do Fluxo de Caixa na tradução inglês, analisa os efeitos das atividades operacionais, de investimento e de financiamento sobre o fluxo de caixa em um determinado período de tempo. A divulgação desta Demonstração Financeira não é obrigatória no Brasil.\\n\\n'"
      ]
     },
     "execution_count": 12,
     "metadata": {},
     "output_type": "execute_result"
    }
   ],
   "source": [
    "context"
   ]
  }
 ],
 "metadata": {
  "kernelspec": {
   "display_name": ".venv (3.11.3)",
   "language": "python",
   "name": "python3"
  },
  "language_info": {
   "codemirror_mode": {
    "name": "ipython",
    "version": 3
   },
   "file_extension": ".py",
   "mimetype": "text/x-python",
   "name": "python",
   "nbconvert_exporter": "python",
   "pygments_lexer": "ipython3",
   "version": "3.11.3"
  }
 },
 "nbformat": 4,
 "nbformat_minor": 5
}
