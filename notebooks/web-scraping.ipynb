{
 "cells": [
  {
   "cell_type": "code",
   "execution_count": null,
   "id": "27f6c283",
   "metadata": {},
   "outputs": [],
   "source": [
    "import requests\n",
    "from bs4 import BeautifulSoup\n",
    "\n",
    "url = 'https://www.infomoney.com.br/guias/indicadores-fundamentalistas/'  \n",
    "\n",
    "response = requests.get(url)\n",
    "response.raise_for_status()"
   ]
  },
  {
   "cell_type": "code",
   "execution_count": 2,
   "id": "2ca7cea5",
   "metadata": {},
   "outputs": [],
   "source": [
    "soup = BeautifulSoup(response.text, 'html.parser')\n",
    "article_section = soup.find(\"section\", class_=\"article-body\")"
   ]
  },
  {
   "cell_type": "code",
   "execution_count": 33,
   "id": "4aff51a8",
   "metadata": {},
   "outputs": [],
   "source": [
    "paragraphs = article_section.find_all([\"p\", \"h2\"])\n",
    "texto = \"\""
   ]
  },
  {
   "cell_type": "code",
   "execution_count": 34,
   "id": "beb2b8b0",
   "metadata": {},
   "outputs": [],
   "source": [
    "for p in paragraphs[3:]:\n",
    "    texto += p.get_text() + \"\\n\""
   ]
  },
  {
   "cell_type": "code",
   "execution_count": 36,
   "id": "2f5c6cbc",
   "metadata": {},
   "outputs": [
    {
     "name": "stdout",
     "output_type": "stream",
     "text": [
      "Ebitda\n",
      "Este indicador representa, em tradução livre do inglês, o lucro antes de juros, impostos, depreciação e amortização. É a partir do Ebitda que analistas e investidores medem o potencial de geração de caixa de uma companhia, uma vez que ele mostra os valores obtidos pelo negócio excluindo os custos que não estão ligados à operação.\n",
      "Margem Ebitda\n",
      "A margem Ebitda é um indicador de margem de lucro operacional de um negócio. Se obtém este indicador pela divisão entre o Ebitda registrado pela companhia em determinado período e as receitas. Quanto maior a margem Ebitda, maior é a eficiência operacional da empresa, uma vez que ela consegue gerar lucro a partir de suas operações.\n",
      "Patrimônio Líquido (PL)\n",
      "Este indicador representa a diferença entre o valor dos ativos de uma empresa e o seu passivo. Lembrando que ativos são os bens e direitos a receber pela companhia, e os passivos as obrigações com terceiros e com os sócios.\n",
      "Retorno sobre o PL (ROE)O ROE é calculado dividindo o lucro líquido da empresa no último ano fiscal pelo patrimônio líquido. O valor resultante mostra quão eficiente é a empresa ao usar seus ativos para obter lucro. O retorno sobre o patrimônio líquido também é obtido com a multiplicação das variáveis margem financeira, giro sobre ativos e alavancagem financeira.Lucro Líquido (LL)O lucro líquido é a diferença entre todas as receitas da companhia e todos os gastos envolvidos na sua operação. Ou seja, é todo o recurso que sobra depois de deduzidos os custos, despesas e impostos. É a partir do LL que a empresa consegue remunerar sócios e funcionários e realizar novos investimentos, por exemplo.Retorno sobre o Capital (ROIC)Este indicador avalia a rentabilidade do investimento aplicado pelos acionistas e credores na empresa. Essa métrica considera tanto o capital próprio da empresa quanto os empréstimos realizados. Quanto maior for o índice, mais rentável e eficiente é a companhia.Receita líquidaEste indicador representa quanto que a empresa faturou em determinado período, abatendo do valor gerado impostos a pagar, devoluções e descontos concedidos. A receita líquida também proporciona aos investidores uma visão real da situação financeira da companhia.Margem Líquida     \t\t\t\t\t\t\tPLANILHAS, CURSOS E E-BOOKS GRATUITOS\t\t\t\t\t\t \t\t\t\t\t\t\tAcesse o melhor do maior veículo de economia, investimentos e negócios do Brasil.\t\t\t\t\t\t \t\t\t\t\t\t\tACESSAR AGORA\t\t\t\t\t\t    Margem líquida é o indicador financeiro que demonstra a porcentagem de lucro em relação às receitas apresentadas por uma empresa no seu balanço. É por meio do indicador que se verifica se a operação de uma companhia é rentável e/ou lucrativa, dois conceitos que são diferentes.Ativo totalO ativo total de uma empresa é a soma de todos os seus ativos, ou seja, seus bens e direitos. Dessa forma, inclui o ativo circulante e o não circulante. O ativo, por definição, é o conjunto de recursos financeiros que são administrados pela empresa para gerarem mais recursos.CONTINUA DEPOIS DA PUBLICIDADEDívida brutaA dívida bruta é um valor composto pela soma de todas as obrigações financeiras da empresa que estão para ser quitadas. O indicador é utilizado para verificar a saúde financeira e o grau de endividamento das empresas. O número é obtido pela soma das dívidas da companhia de curto e longo prazos.Dívida líquidaA dívida líquida está ligada às obrigações financeiras que as empresas adquirem, sejam elas para expandir as atividades empresariais ou para alavancar o capital de giro da empresa. A dívida líquida desconta do conceito da dívida bruta o caixa líquido que a companhia possui.Índice de preço sobre lucro (P/L)É um índice usado para avaliar se o preço das ações de uma empresa está caro ou barato. O preço analisado é sempre o valor por ação que está divulgado na bolsa em um certo momento. Já o lucro é o ganho líquido por cada uma das ações neste mesmo período.Dividend YieldO dividend yield, ou taxa de retorno com dividendos, é um indicador que mede o rendimento de uma ação apenas com o pagamento de dividendos. Ele é calculado na forma de uma taxa que relaciona os proventos distribuídos pela empresa e o preço das suas ações negociadas na bolsa de valores.P/VPAO P/VPA corresponde ao preço de uma ação dividido pelo valor patrimonial correspondente a ela, sendo esse o indicador que diz o quanto os investidores estão dispostos a pagar pelo patrimônio líquido da empresa.CONTINUA DEPOIS DA PUBLICIDADEPSRO PSR, ou Price to Sales Ratio, é o índice de preço em relação a vendas. É obtido pelo valor da empresa dividido por sua receita operacional líquida. O indicador é utilizado para medir o desempenho de vendas de uma companhia.Enterprise Value (EV/Ebitda)O Enterprise Value é a soma do valor de mercado das ações de uma companhia com a dívida líquida dessa empresa. O valor é obtido ao multiplicar o número de ações emitidas pelo preço da ação em determinado momento. Leia também: Análise de balanços: o que Warren Buffett avalia nas empresas investidas? CFS (Cash Flow/Share)O CFS, ou Demonstração do Fluxo de Caixa na tradução inglês, analisa os efeitos das atividades operacionais, de investimento e de financiamento sobre o fluxo de caixa em um determinado período de tempo. A divulgação desta Demonstração Financeira não é obrigatória no Brasil.Dividend PayoutO dividend payout, ou proporção de pagamento de dividendos, é o indicador da política de dividendos de uma empresa. Ele é calculado como a proporção dos lucros da empresa que são distribuídos na forma de proventos em dinheiro e, em geral, é determinado pela própria empresa em seus estatutos.CONTINUA DEPOIS DA PUBLICIDADE \n",
      "Retorno sobre o PL (ROE)\n",
      "O ROE é calculado dividindo o lucro líquido da empresa no último ano fiscal pelo patrimônio líquido. O valor resultante mostra quão eficiente é a empresa ao usar seus ativos para obter lucro. O retorno sobre o patrimônio líquido também é obtido com a multiplicação das variáveis margem financeira, giro sobre ativos e alavancagem financeira.\n",
      "Lucro Líquido (LL)\n",
      "O lucro líquido é a diferença entre todas as receitas da companhia e todos os gastos envolvidos na sua operação. Ou seja, é todo o recurso que sobra depois de deduzidos os custos, despesas e impostos. É a partir do LL que a empresa consegue remunerar sócios e funcionários e realizar novos investimentos, por exemplo.\n",
      "Retorno sobre o Capital (ROIC)\n",
      "Este indicador avalia a rentabilidade do investimento aplicado pelos acionistas e credores na empresa. Essa métrica considera tanto o capital próprio da empresa quanto os empréstimos realizados. Quanto maior for o índice, mais rentável e eficiente é a companhia.\n",
      "Receita líquida\n",
      "Este indicador representa quanto que a empresa faturou em determinado período, abatendo do valor gerado impostos a pagar, devoluções e descontos concedidos. A receita líquida também proporciona aos investidores uma visão real da situação financeira da companhia.\n",
      "Margem Líquida\n",
      "Margem líquida é o indicador financeiro que demonstra a porcentagem de lucro em relação às receitas apresentadas por uma empresa no seu balanço. É por meio do indicador que se verifica se a operação de uma companhia é rentável e/ou lucrativa, dois conceitos que são diferentes.\n",
      "Ativo total\n",
      "O ativo total de uma empresa é a soma de todos os seus ativos, ou seja, seus bens e direitos. Dessa forma, inclui o ativo circulante e o não circulante. O ativo, por definição, é o conjunto de recursos financeiros que são administrados pela empresa para gerarem mais recursos.\n",
      "Dívida brutaA dívida bruta é um valor composto pela soma de todas as obrigações financeiras da empresa que estão para ser quitadas. O indicador é utilizado para verificar a saúde financeira e o grau de endividamento das empresas. O número é obtido pela soma das dívidas da companhia de curto e longo prazos.Dívida líquidaA dívida líquida está ligada às obrigações financeiras que as empresas adquirem, sejam elas para expandir as atividades empresariais ou para alavancar o capital de giro da empresa. A dívida líquida desconta do conceito da dívida bruta o caixa líquido que a companhia possui.Índice de preço sobre lucro (P/L)É um índice usado para avaliar se o preço das ações de uma empresa está caro ou barato. O preço analisado é sempre o valor por ação que está divulgado na bolsa em um certo momento. Já o lucro é o ganho líquido por cada uma das ações neste mesmo período.Dividend YieldO dividend yield, ou taxa de retorno com dividendos, é um indicador que mede o rendimento de uma ação apenas com o pagamento de dividendos. Ele é calculado na forma de uma taxa que relaciona os proventos distribuídos pela empresa e o preço das suas ações negociadas na bolsa de valores.P/VPAO P/VPA corresponde ao preço de uma ação dividido pelo valor patrimonial correspondente a ela, sendo esse o indicador que diz o quanto os investidores estão dispostos a pagar pelo patrimônio líquido da empresa.CONTINUA DEPOIS DA PUBLICIDADEPSRO PSR, ou Price to Sales Ratio, é o índice de preço em relação a vendas. É obtido pelo valor da empresa dividido por sua receita operacional líquida. O indicador é utilizado para medir o desempenho de vendas de uma companhia.Enterprise Value (EV/Ebitda)O Enterprise Value é a soma do valor de mercado das ações de uma companhia com a dívida líquida dessa empresa. O valor é obtido ao multiplicar o número de ações emitidas pelo preço da ação em determinado momento. Leia também: Análise de balanços: o que Warren Buffett avalia nas empresas investidas? CFS (Cash Flow/Share)O CFS, ou Demonstração do Fluxo de Caixa na tradução inglês, analisa os efeitos das atividades operacionais, de investimento e de financiamento sobre o fluxo de caixa em um determinado período de tempo. A divulgação desta Demonstração Financeira não é obrigatória no Brasil.Dividend PayoutO dividend payout, ou proporção de pagamento de dividendos, é o indicador da política de dividendos de uma empresa. Ele é calculado como a proporção dos lucros da empresa que são distribuídos na forma de proventos em dinheiro e, em geral, é determinado pela própria empresa em seus estatutos.CONTINUA DEPOIS DA PUBLICIDADE \n",
      "Dívida bruta\n",
      "A dívida bruta é um valor composto pela soma de todas as obrigações financeiras da empresa que estão para ser quitadas. O indicador é utilizado para verificar a saúde financeira e o grau de endividamento das empresas. O número é obtido pela soma das dívidas da companhia de curto e longo prazos.\n",
      "Dívida líquida\n",
      "A dívida líquida está ligada às obrigações financeiras que as empresas adquirem, sejam elas para expandir as atividades empresariais ou para alavancar o capital de giro da empresa. A dívida líquida desconta do conceito da dívida bruta o caixa líquido que a companhia possui.\n",
      "Índice de preço sobre lucro (P/L)\n",
      "É um índice usado para avaliar se o preço das ações de uma empresa está caro ou barato. O preço analisado é sempre o valor por ação que está divulgado na bolsa em um certo momento. Já o lucro é o ganho líquido por cada uma das ações neste mesmo período.\n",
      "Dividend Yield\n",
      "O dividend yield, ou taxa de retorno com dividendos, é um indicador que mede o rendimento de uma ação apenas com o pagamento de dividendos. Ele é calculado na forma de uma taxa que relaciona os proventos distribuídos pela empresa e o preço das suas ações negociadas na bolsa de valores.\n",
      "P/VPA\n",
      "O P/VPA corresponde ao preço de uma ação dividido pelo valor patrimonial correspondente a ela, sendo esse o indicador que diz o quanto os investidores estão dispostos a pagar pelo patrimônio líquido da empresa.\n",
      "PSRO PSR, ou Price to Sales Ratio, é o índice de preço em relação a vendas. É obtido pelo valor da empresa dividido por sua receita operacional líquida. O indicador é utilizado para medir o desempenho de vendas de uma companhia.Enterprise Value (EV/Ebitda)O Enterprise Value é a soma do valor de mercado das ações de uma companhia com a dívida líquida dessa empresa. O valor é obtido ao multiplicar o número de ações emitidas pelo preço da ação em determinado momento. Leia também: Análise de balanços: o que Warren Buffett avalia nas empresas investidas? CFS (Cash Flow/Share)O CFS, ou Demonstração do Fluxo de Caixa na tradução inglês, analisa os efeitos das atividades operacionais, de investimento e de financiamento sobre o fluxo de caixa em um determinado período de tempo. A divulgação desta Demonstração Financeira não é obrigatória no Brasil.Dividend PayoutO dividend payout, ou proporção de pagamento de dividendos, é o indicador da política de dividendos de uma empresa. Ele é calculado como a proporção dos lucros da empresa que são distribuídos na forma de proventos em dinheiro e, em geral, é determinado pela própria empresa em seus estatutos.\n",
      "PSR\n",
      "O PSR, ou Price to Sales Ratio, é o índice de preço em relação a vendas. É obtido pelo valor da empresa dividido por sua receita operacional líquida. O indicador é utilizado para medir o desempenho de vendas de uma companhia.\n",
      "Enterprise Value (EV/Ebitda)\n",
      "O Enterprise Value é a soma do valor de mercado das ações de uma companhia com a dívida líquida dessa empresa. O valor é obtido ao multiplicar o número de ações emitidas pelo preço da ação em determinado momento.\n",
      " Leia também: Análise de balanços: o que Warren Buffett avalia nas empresas investidas? \n",
      "CFS (Cash Flow/Share)\n",
      "O CFS, ou Demonstração do Fluxo de Caixa na tradução inglês, analisa os efeitos das atividades operacionais, de investimento e de financiamento sobre o fluxo de caixa em um determinado período de tempo. A divulgação desta Demonstração Financeira não é obrigatória no Brasil.\n",
      "Dividend Payout\n",
      "O dividend payout, ou proporção de pagamento de dividendos, é o indicador da política de dividendos de uma empresa. Ele é calculado como a proporção dos lucros da empresa que são distribuídos na forma de proventos em dinheiro e, em geral, é determinado pela própria empresa em seus estatutos.\n",
      " \n",
      "\n"
     ]
    }
   ],
   "source": [
    "print(texto)"
   ]
  },
  {
   "cell_type": "code",
   "execution_count": 39,
   "id": "74c1cc54",
   "metadata": {},
   "outputs": [],
   "source": [
    "with open(\"../financial_agents/knowledge/dados_fundamentalistas.txt\", \"w\", encoding=\"utf-8\") as file:\n",
    "    file.write(texto)"
   ]
  },
  {
   "cell_type": "code",
   "execution_count": null,
   "id": "edb7b700",
   "metadata": {},
   "outputs": [],
   "source": []
  }
 ],
 "metadata": {
  "kernelspec": {
   "display_name": ".venv (3.11.3)",
   "language": "python",
   "name": "python3"
  },
  "language_info": {
   "codemirror_mode": {
    "name": "ipython",
    "version": 3
   },
   "file_extension": ".py",
   "mimetype": "text/x-python",
   "name": "python",
   "nbconvert_exporter": "python",
   "pygments_lexer": "ipython3",
   "version": "3.11.3"
  }
 },
 "nbformat": 4,
 "nbformat_minor": 5
}
